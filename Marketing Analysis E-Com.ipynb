{
 "cells": [
  {
   "cell_type": "markdown",
   "id": "8b764a93",
   "metadata": {},
   "source": [
    "### Required Packages"
   ]
  },
  {
   "cell_type": "code",
   "execution_count": 58,
   "id": "ed4c3ce6",
   "metadata": {},
   "outputs": [],
   "source": [
    "import numpy as np\n",
    "import pandas as pd\n",
    "import matplotlib.pyplot as plt\n",
    "import seaborn as sns\n",
    "import datetime as dt"
   ]
  },
  {
   "cell_type": "markdown",
   "id": "66fbb416",
   "metadata": {},
   "source": [
    "### Datasets"
   ]
  },
  {
   "cell_type": "code",
   "execution_count": 2,
   "id": "82c173e0",
   "metadata": {},
   "outputs": [],
   "source": [
    "cust = pd.read_csv('C:/Users/Nithin/Downloads/Python Foundation End to End Case Study E-Commerce Analytics Project/Datasets/CUSTOMERS.csv')\n",
    "loc = pd.read_csv('C:/Users/Nithin/Downloads/Python Foundation End to End Case Study E-Commerce Analytics Project/Datasets/GEO_LOCATION.csv')\n",
    "ord_item = pd.read_csv('C:/Users/Nithin/Downloads/Python Foundation End to End Case Study E-Commerce Analytics Project/Datasets/ORDER_ITEMS.csv')\n",
    "ord_pay = pd.read_csv('C:/Users/Nithin/Downloads/Python Foundation End to End Case Study E-Commerce Analytics Project/Datasets/ORDER_PAYMENTS.csv')\n",
    "ord_rate = pd.read_csv('C:/Users/Nithin/Downloads/Python Foundation End to End Case Study E-Commerce Analytics Project/Datasets/ORDER_REVIEW_RATINGS.csv')\n",
    "order = pd.read_csv('C:/Users/Nithin/Downloads/Python Foundation End to End Case Study E-Commerce Analytics Project/Datasets/ORDERS.csv')\n",
    "product = pd.read_csv('C:/Users/Nithin/Downloads/Python Foundation End to End Case Study E-Commerce Analytics Project/Datasets/PRODUCTS.csv')\n",
    "seller = pd.read_csv('C:/Users/Nithin/Downloads/Python Foundation End to End Case Study E-Commerce Analytics Project/Datasets/SELLERS.csv')"
   ]
  },
  {
   "cell_type": "code",
   "execution_count": 3,
   "id": "06f8068c",
   "metadata": {},
   "outputs": [],
   "source": [
    "#df1 Order & Order Payment\n",
    "df1 = pd.merge(left=order,right=ord_pay,how='left',left_on='order_id',right_on='order_id')"
   ]
  },
  {
   "cell_type": "code",
   "execution_count": 4,
   "id": "9bd30da8",
   "metadata": {},
   "outputs": [],
   "source": [
    "#df2 Order Rating\n",
    "df2 = pd.merge(left=df1,right=ord_rate,how='left',left_on=['order_id'],right_on=['order_id'])"
   ]
  },
  {
   "cell_type": "code",
   "execution_count": 5,
   "id": "42720d8f",
   "metadata": {},
   "outputs": [],
   "source": [
    "#df3 Order Items\n",
    "df3 = pd.merge(left=df2,right=ord_item,how='left',left_on=['order_id'],right_on=['order_id'])"
   ]
  },
  {
   "cell_type": "code",
   "execution_count": 6,
   "id": "c7307013",
   "metadata": {},
   "outputs": [],
   "source": [
    "#df4 Products\n",
    "df4 = pd.merge(left=df3,right=product,how='left',left_on=['product_id'],right_on=['product_id'])"
   ]
  },
  {
   "cell_type": "code",
   "execution_count": 7,
   "id": "6223cdc2",
   "metadata": {},
   "outputs": [],
   "source": [
    "#df5 sellers\n",
    "df5 = pd.merge(left=df4,right=seller,how='left',left_on=['seller_id'],right_on=['seller_id'])"
   ]
  },
  {
   "cell_type": "code",
   "execution_count": 8,
   "id": "b600703a",
   "metadata": {},
   "outputs": [],
   "source": [
    "#df6 sellers\n",
    "df6 = pd.merge(left=df5,right=cust,how='left',left_on=['customer_id'],right_on=['customer_id'])"
   ]
  },
  {
   "cell_type": "code",
   "execution_count": 9,
   "id": "bd1b4447",
   "metadata": {},
   "outputs": [],
   "source": [
    "#df7 sellers\n",
    "df7 = pd.merge(left=df6,right=loc,how='left',left_on=['seller_zip_code_prefix'],right_on=['geolocation_zip_code_prefix'])"
   ]
  },
  {
   "cell_type": "code",
   "execution_count": 10,
   "id": "096b084b",
   "metadata": {},
   "outputs": [],
   "source": [
    "#df8 sellers\n",
    "df8 = pd.merge(left=df7,right=loc,how='left',left_on=['customer_zip_code_prefix'],right_on=['geolocation_zip_code_prefix'],suffixes=('_Seller','_Cust'))"
   ]
  },
  {
   "cell_type": "code",
   "execution_count": 11,
   "id": "71b0fd25",
   "metadata": {},
   "outputs": [],
   "source": [
    "df8.to_csv('C:/Users/Nithin/Downloads/Python Foundation End to End Case Study E-Commerce Analytics Project/Datasets/Final.csv')"
   ]
  },
  {
   "cell_type": "code",
   "execution_count": 12,
   "id": "7092987c",
   "metadata": {},
   "outputs": [],
   "source": [
    "df_final = df8.loc[:,['order_id', 'customer_id', 'order_status', 'order_purchase_timestamp',\n",
    "'order_approved_at', 'order_delivered_carrier_date',\n",
    "'order_delivered_customer_date', 'order_estimated_delivery_date',\n",
    "'payment_sequential', 'payment_type', 'payment_installments',\n",
    "'payment_value', 'review_id', 'review_score', 'review_creation_date',\n",
    "'review_answer_timestamp', 'order_item_id', 'product_id', 'seller_id',\n",
    "'shipping_limit_date', 'price', 'freight_value',\n",
    "'product_category_name', 'product_name_lenght',\n",
    "'product_description_lenght', 'product_photos_qty', 'product_weight_g',\n",
    "'product_length_cm', 'product_height_cm', 'product_width_cm',\n",
    "'seller_zip_code_prefix','geolocation_lat_Seller','geolocation_lng_Seller' ,'seller_city', 'seller_state',\n",
    "'customer_unique_id', 'customer_zip_code_prefix', 'customer_city',\n",
    "'customer_state','geolocation_lat_Cust',\n",
    "'geolocation_lng_Cust']]"
   ]
  },
  {
   "cell_type": "markdown",
   "id": "657a1175",
   "metadata": {},
   "source": [
    "### Data Preparation"
   ]
  },
  {
   "cell_type": "code",
   "execution_count": 13,
   "id": "d71c7e51",
   "metadata": {},
   "outputs": [],
   "source": [
    "df_final.order_purchase_timestamp = pd.to_datetime(df_final.order_purchase_timestamp, format = '%m/%d/%Y %H:%M')\n",
    "df_final.order_approved_at = pd.to_datetime(df_final.order_approved_at, format = '%m/%d/%Y %H:%M')\n",
    "df_final.order_delivered_carrier_date = pd.to_datetime(df_final.order_delivered_carrier_date, format = '%m/%d/%Y %H:%M')\n",
    "df_final.order_estimated_delivery_date = pd.to_datetime(df_final.order_estimated_delivery_date, format = '%m/%d/%Y %H:%M')\n",
    "df_final.review_creation_date = pd.to_datetime(df_final.review_creation_date, format = '%m/%d/%Y %H:%M')\n",
    "df_final.review_answer_timestamp = pd.to_datetime(df_final.review_answer_timestamp, format = '%m/%d/%Y %H:%M')\n",
    "df_final.shipping_limit_date = pd.to_datetime(df_final.shipping_limit_date, format = '%m/%d/%Y %H:%M')"
   ]
  },
  {
   "cell_type": "markdown",
   "id": "fa32233b",
   "metadata": {},
   "source": [
    "### 1.\tPerform Detailed exploratory analysis\n",
    "\n",
    "##### a.\tDefine & calculate high level metrics like (Total Revenue, Total quantity, Total products, Total categories, Total sellers, Total locations, Total channels, Total payment methods etc…)\n",
    "\n",
    "##### b.\tUnderstanding how many new customers acquired every month\n",
    "\n",
    "##### c.\tUnderstand the retention of customers on month on month basis\n",
    "\n",
    "##### d.\tHow the revenues from existing/new customers on month on month basis\n",
    "\n",
    "##### e.\tUnderstand the trends/seasonality of sales, quantity by category, location, month, week, day, time, channel, payment method etc…\n",
    "\n",
    "##### f.\tPopular Products by month, seller, state, category.\n",
    "\n",
    "##### g.\tPopular categories by state, month\n",
    "\n",
    "##### h.\tList top 10 most expensive products sorted by price"
   ]
  },
  {
   "cell_type": "code",
   "execution_count": 38,
   "id": "fd0facf4",
   "metadata": {},
   "outputs": [
    {
     "data": {
      "text/plain": [
       "5"
      ]
     },
     "execution_count": 38,
     "metadata": {},
     "output_type": "execute_result"
    }
   ],
   "source": [
    "#a.\n",
    "\n",
    "#Total Revenue\n",
    "tot_rev = df_final['payment_installments'] * df_final['payment_value']\n",
    "tot_rev.sum()\n",
    "\n",
    "#Total Quantity\n",
    "df_final.order_item_id.count()\n",
    "\n",
    "#Total Products\n",
    "df_final.product_id.nunique()\n",
    "\n",
    "#Total Categories\n",
    "df_final.product_category_name.nunique()\n",
    "\n",
    "#Total Sellers\n",
    "df_final.seller_id.nunique()\n",
    "\n",
    "#Total Locations\n",
    "loc.geolocation_zip_code_prefix.nunique()\n",
    "\n",
    "#Total Payments\n",
    "df_final.payment_type.nunique()"
   ]
  },
  {
   "cell_type": "code",
   "execution_count": 42,
   "id": "110f3a72",
   "metadata": {},
   "outputs": [
    {
     "data": {
      "text/plain": [
       "Index(['order_id', 'customer_id', 'order_status', 'order_purchase_timestamp',\n",
       "       'order_approved_at', 'order_delivered_carrier_date',\n",
       "       'order_delivered_customer_date', 'order_estimated_delivery_date',\n",
       "       'payment_sequential', 'payment_type', 'payment_installments',\n",
       "       'payment_value', 'review_id', 'review_score', 'review_creation_date',\n",
       "       'review_answer_timestamp', 'order_item_id', 'product_id', 'seller_id',\n",
       "       'shipping_limit_date', 'price', 'freight_value',\n",
       "       'product_category_name', 'product_name_lenght',\n",
       "       'product_description_lenght', 'product_photos_qty', 'product_weight_g',\n",
       "       'product_length_cm', 'product_height_cm', 'product_width_cm',\n",
       "       'seller_zip_code_prefix', 'geolocation_lat_Seller',\n",
       "       'geolocation_lng_Seller', 'seller_city', 'seller_state',\n",
       "       'customer_unique_id', 'customer_zip_code_prefix', 'customer_city',\n",
       "       'customer_state', 'geolocation_lat_Cust', 'geolocation_lng_Cust'],\n",
       "      dtype='object')"
      ]
     },
     "execution_count": 42,
     "metadata": {},
     "output_type": "execute_result"
    }
   ],
   "source": [
    "df_final.columns"
   ]
  },
  {
   "cell_type": "code",
   "execution_count": 78,
   "id": "962e21d4",
   "metadata": {},
   "outputs": [
    {
     "data": {
      "text/html": [
       "<div>\n",
       "<style scoped>\n",
       "    .dataframe tbody tr th:only-of-type {\n",
       "        vertical-align: middle;\n",
       "    }\n",
       "\n",
       "    .dataframe tbody tr th {\n",
       "        vertical-align: top;\n",
       "    }\n",
       "\n",
       "    .dataframe thead th {\n",
       "        text-align: right;\n",
       "    }\n",
       "</style>\n",
       "<table border=\"1\" class=\"dataframe\">\n",
       "  <thead>\n",
       "    <tr style=\"text-align: right;\">\n",
       "      <th></th>\n",
       "      <th>customer_id</th>\n",
       "    </tr>\n",
       "    <tr>\n",
       "      <th>Year_month</th>\n",
       "      <th></th>\n",
       "    </tr>\n",
       "  </thead>\n",
       "  <tbody>\n",
       "    <tr>\n",
       "      <th>2016/09</th>\n",
       "      <td>7</td>\n",
       "    </tr>\n",
       "    <tr>\n",
       "      <th>2016/10</th>\n",
       "      <td>402</td>\n",
       "    </tr>\n",
       "    <tr>\n",
       "      <th>2016/12</th>\n",
       "      <td>1</td>\n",
       "    </tr>\n",
       "    <tr>\n",
       "      <th>2017/01</th>\n",
       "      <td>1035</td>\n",
       "    </tr>\n",
       "    <tr>\n",
       "      <th>2017/02</th>\n",
       "      <td>2123</td>\n",
       "    </tr>\n",
       "    <tr>\n",
       "      <th>2017/03</th>\n",
       "      <td>3243</td>\n",
       "    </tr>\n",
       "    <tr>\n",
       "      <th>2017/04</th>\n",
       "      <td>2878</td>\n",
       "    </tr>\n",
       "    <tr>\n",
       "      <th>2017/05</th>\n",
       "      <td>4485</td>\n",
       "    </tr>\n",
       "    <tr>\n",
       "      <th>2017/06</th>\n",
       "      <td>3853</td>\n",
       "    </tr>\n",
       "    <tr>\n",
       "      <th>2017/07</th>\n",
       "      <td>4949</td>\n",
       "    </tr>\n",
       "    <tr>\n",
       "      <th>2017/08</th>\n",
       "      <td>5278</td>\n",
       "    </tr>\n",
       "    <tr>\n",
       "      <th>2017/09</th>\n",
       "      <td>5187</td>\n",
       "    </tr>\n",
       "    <tr>\n",
       "      <th>2017/10</th>\n",
       "      <td>5683</td>\n",
       "    </tr>\n",
       "    <tr>\n",
       "      <th>2017/11</th>\n",
       "      <td>9191</td>\n",
       "    </tr>\n",
       "    <tr>\n",
       "      <th>2017/12</th>\n",
       "      <td>6647</td>\n",
       "    </tr>\n",
       "    <tr>\n",
       "      <th>2018/01</th>\n",
       "      <td>8655</td>\n",
       "    </tr>\n",
       "    <tr>\n",
       "      <th>2018/02</th>\n",
       "      <td>8060</td>\n",
       "    </tr>\n",
       "    <tr>\n",
       "      <th>2018/03</th>\n",
       "      <td>8615</td>\n",
       "    </tr>\n",
       "    <tr>\n",
       "      <th>2018/04</th>\n",
       "      <td>8278</td>\n",
       "    </tr>\n",
       "    <tr>\n",
       "      <th>2018/05</th>\n",
       "      <td>8258</td>\n",
       "    </tr>\n",
       "    <tr>\n",
       "      <th>2018/06</th>\n",
       "      <td>7403</td>\n",
       "    </tr>\n",
       "    <tr>\n",
       "      <th>2018/07</th>\n",
       "      <td>7376</td>\n",
       "    </tr>\n",
       "    <tr>\n",
       "      <th>2018/08</th>\n",
       "      <td>7524</td>\n",
       "    </tr>\n",
       "    <tr>\n",
       "      <th>2018/09</th>\n",
       "      <td>16</td>\n",
       "    </tr>\n",
       "    <tr>\n",
       "      <th>2018/10</th>\n",
       "      <td>4</td>\n",
       "    </tr>\n",
       "  </tbody>\n",
       "</table>\n",
       "</div>"
      ],
      "text/plain": [
       "            customer_id\n",
       "Year_month             \n",
       "2016/09               7\n",
       "2016/10             402\n",
       "2016/12               1\n",
       "2017/01            1035\n",
       "2017/02            2123\n",
       "2017/03            3243\n",
       "2017/04            2878\n",
       "2017/05            4485\n",
       "2017/06            3853\n",
       "2017/07            4949\n",
       "2017/08            5278\n",
       "2017/09            5187\n",
       "2017/10            5683\n",
       "2017/11            9191\n",
       "2017/12            6647\n",
       "2018/01            8655\n",
       "2018/02            8060\n",
       "2018/03            8615\n",
       "2018/04            8278\n",
       "2018/05            8258\n",
       "2018/06            7403\n",
       "2018/07            7376\n",
       "2018/08            7524\n",
       "2018/09              16\n",
       "2018/10               4"
      ]
     },
     "execution_count": 78,
     "metadata": {},
     "output_type": "execute_result"
    }
   ],
   "source": [
    "#b\n",
    "\n",
    "df9 = df_final.loc[:,['customer_id','order_purchase_timestamp']]\n",
    "df9['Year_month'] = df9.order_purchase_timestamp.apply(lambda x : pd.Timestamp.strftime(x,format= '%Y/%m'))\n",
    "df9.drop(columns = 'order_purchase_timestamp',inplace = True)\n",
    "df10 = pd.DataFrame(df9.groupby('Year_month')['customer_id'].count())\n",
    "df10"
   ]
  },
  {
   "cell_type": "code",
   "execution_count": 72,
   "id": "e7a834fa",
   "metadata": {},
   "outputs": [
    {
     "data": {
      "text/plain": [
       "<AxesSubplot:xlabel='Year_month'>"
      ]
     },
     "execution_count": 72,
     "metadata": {},
     "output_type": "execute_result"
    },
    {
     "data": {
      "image/png": "[encoded data removed]",
      "text/plain": [
       "<Figure size 1080x360 with 1 Axes>"
      ]
     },
     "metadata": {
      "needs_background": "light"
     },
     "output_type": "display_data"
    }
   ],
   "source": [
    "df10.plot(kind = 'bar',figsize = (15,5))"
   ]
  },
  {
   "cell_type": "code",
   "execution_count": 95,
   "id": "6618a196",
   "metadata": {},
   "outputs": [],
   "source": [
    "#c.\n",
    "\n",
    "tot_cust = df_final.customer_id.count()"
   ]
  },
  {
   "cell_type": "code",
   "execution_count": 112,
   "id": "12a8b155",
   "metadata": {},
   "outputs": [
    {
     "data": {
      "text/plain": [
       "<AxesSubplot:xlabel='Year_month'>"
      ]
     },
     "execution_count": 112,
     "metadata": {},
     "output_type": "execute_result"
    },
    {
     "data": {
      "image/png": "[encoded data removed]",
      "text/plain": [
       "<Figure size 1080x360 with 1 Axes>"
      ]
     },
     "metadata": {
      "needs_background": "light"
     },
     "output_type": "display_data"
    }
   ],
   "source": [
    "#d.\n",
    "\n",
    "df9['Revenue'] = df_final.price + df_final.freight_value\n",
    "df9.groupby('Year_month').Revenue.sum().plot(kind= 'bar',figsize=(15,5))"
   ]
  },
  {
   "cell_type": "code",
   "execution_count": 122,
   "id": "310e336e",
   "metadata": {},
   "outputs": [
    {
     "data": {
      "text/html": [
       "<div>\n",
       "<style scoped>\n",
       "    .dataframe tbody tr th:only-of-type {\n",
       "        vertical-align: middle;\n",
       "    }\n",
       "\n",
       "    .dataframe tbody tr th {\n",
       "        vertical-align: top;\n",
       "    }\n",
       "\n",
       "    .dataframe thead th {\n",
       "        text-align: right;\n",
       "    }\n",
       "</style>\n",
       "<table border=\"1\" class=\"dataframe\">\n",
       "  <thead>\n",
       "    <tr style=\"text-align: right;\">\n",
       "      <th></th>\n",
       "      <th>product_id</th>\n",
       "      <th>price</th>\n",
       "    </tr>\n",
       "    <tr>\n",
       "      <th>year_month</th>\n",
       "      <th></th>\n",
       "      <th></th>\n",
       "    </tr>\n",
       "  </thead>\n",
       "  <tbody>\n",
       "    <tr>\n",
       "      <th>2016/09</th>\n",
       "      <td>6</td>\n",
       "      <td>267.36</td>\n",
       "    </tr>\n",
       "    <tr>\n",
       "      <th>2016/10</th>\n",
       "      <td>386</td>\n",
       "      <td>51468.91</td>\n",
       "    </tr>\n",
       "    <tr>\n",
       "      <th>2016/12</th>\n",
       "      <td>1</td>\n",
       "      <td>10.90</td>\n",
       "    </tr>\n",
       "    <tr>\n",
       "      <th>2017/01</th>\n",
       "      <td>1023</td>\n",
       "      <td>129895.32</td>\n",
       "    </tr>\n",
       "    <tr>\n",
       "      <th>2017/02</th>\n",
       "      <td>2073</td>\n",
       "      <td>262013.86</td>\n",
       "    </tr>\n",
       "    <tr>\n",
       "      <th>2017/03</th>\n",
       "      <td>3201</td>\n",
       "      <td>398117.44</td>\n",
       "    </tr>\n",
       "    <tr>\n",
       "      <th>2017/04</th>\n",
       "      <td>2864</td>\n",
       "      <td>392595.36</td>\n",
       "    </tr>\n",
       "    <tr>\n",
       "      <th>2017/05</th>\n",
       "      <td>4445</td>\n",
       "      <td>549226.84</td>\n",
       "    </tr>\n",
       "    <tr>\n",
       "      <th>2017/06</th>\n",
       "      <td>3822</td>\n",
       "      <td>456867.47</td>\n",
       "    </tr>\n",
       "    <tr>\n",
       "      <th>2017/07</th>\n",
       "      <td>4887</td>\n",
       "      <td>536906.96</td>\n",
       "    </tr>\n",
       "    <tr>\n",
       "      <th>2017/08</th>\n",
       "      <td>5224</td>\n",
       "      <td>606026.98</td>\n",
       "    </tr>\n",
       "    <tr>\n",
       "      <th>2017/09</th>\n",
       "      <td>5137</td>\n",
       "      <td>665467.18</td>\n",
       "    </tr>\n",
       "    <tr>\n",
       "      <th>2017/10</th>\n",
       "      <td>5617</td>\n",
       "      <td>697457.32</td>\n",
       "    </tr>\n",
       "    <tr>\n",
       "      <th>2017/11</th>\n",
       "      <td>9096</td>\n",
       "      <td>1055072.10</td>\n",
       "    </tr>\n",
       "    <tr>\n",
       "      <th>2017/12</th>\n",
       "      <td>6595</td>\n",
       "      <td>773722.91</td>\n",
       "    </tr>\n",
       "    <tr>\n",
       "      <th>2018/01</th>\n",
       "      <td>8603</td>\n",
       "      <td>993701.49</td>\n",
       "    </tr>\n",
       "    <tr>\n",
       "      <th>2018/02</th>\n",
       "      <td>8025</td>\n",
       "      <td>889777.19</td>\n",
       "    </tr>\n",
       "    <tr>\n",
       "      <th>2018/03</th>\n",
       "      <td>8592</td>\n",
       "      <td>1029589.67</td>\n",
       "    </tr>\n",
       "    <tr>\n",
       "      <th>2018/04</th>\n",
       "      <td>8273</td>\n",
       "      <td>1031745.62</td>\n",
       "    </tr>\n",
       "    <tr>\n",
       "      <th>2018/05</th>\n",
       "      <td>8231</td>\n",
       "      <td>1032699.42</td>\n",
       "    </tr>\n",
       "    <tr>\n",
       "      <th>2018/06</th>\n",
       "      <td>7396</td>\n",
       "      <td>910053.03</td>\n",
       "    </tr>\n",
       "    <tr>\n",
       "      <th>2018/07</th>\n",
       "      <td>7356</td>\n",
       "      <td>927401.38</td>\n",
       "    </tr>\n",
       "    <tr>\n",
       "      <th>2018/08</th>\n",
       "      <td>7464</td>\n",
       "      <td>884731.52</td>\n",
       "    </tr>\n",
       "    <tr>\n",
       "      <th>2018/09</th>\n",
       "      <td>1</td>\n",
       "      <td>145.00</td>\n",
       "    </tr>\n",
       "    <tr>\n",
       "      <th>2018/10</th>\n",
       "      <td>0</td>\n",
       "      <td>0.00</td>\n",
       "    </tr>\n",
       "  </tbody>\n",
       "</table>\n",
       "</div>"
      ],
      "text/plain": [
       "            product_id       price\n",
       "year_month                        \n",
       "2016/09              6      267.36\n",
       "2016/10            386    51468.91\n",
       "2016/12              1       10.90\n",
       "2017/01           1023   129895.32\n",
       "2017/02           2073   262013.86\n",
       "2017/03           3201   398117.44\n",
       "2017/04           2864   392595.36\n",
       "2017/05           4445   549226.84\n",
       "2017/06           3822   456867.47\n",
       "2017/07           4887   536906.96\n",
       "2017/08           5224   606026.98\n",
       "2017/09           5137   665467.18\n",
       "2017/10           5617   697457.32\n",
       "2017/11           9096  1055072.10\n",
       "2017/12           6595   773722.91\n",
       "2018/01           8603   993701.49\n",
       "2018/02           8025   889777.19\n",
       "2018/03           8592  1029589.67\n",
       "2018/04           8273  1031745.62\n",
       "2018/05           8231  1032699.42\n",
       "2018/06           7396   910053.03\n",
       "2018/07           7356   927401.38\n",
       "2018/08           7464   884731.52\n",
       "2018/09              1      145.00\n",
       "2018/10              0        0.00"
      ]
     },
     "execution_count": 122,
     "metadata": {},
     "output_type": "execute_result"
    }
   ],
   "source": [
    "#e\n",
    "\n",
    "df_final['year_month'] = df_final.order_purchase_timestamp.apply(lambda x : pd.Timestamp.strftime(x,format= '%Y/%m'))\n",
    "df_final.groupby('year_month').aggregate({'product_id':'count','price':'sum'})"
   ]
  },
  {
   "cell_type": "code",
   "execution_count": 123,
   "id": "8e158a02",
   "metadata": {},
   "outputs": [
    {
     "data": {
      "text/html": [
       "<div>\n",
       "<style scoped>\n",
       "    .dataframe tbody tr th:only-of-type {\n",
       "        vertical-align: middle;\n",
       "    }\n",
       "\n",
       "    .dataframe tbody tr th {\n",
       "        vertical-align: top;\n",
       "    }\n",
       "\n",
       "    .dataframe thead th {\n",
       "        text-align: right;\n",
       "    }\n",
       "</style>\n",
       "<table border=\"1\" class=\"dataframe\">\n",
       "  <thead>\n",
       "    <tr style=\"text-align: right;\">\n",
       "      <th></th>\n",
       "      <th>product_id</th>\n",
       "      <th>price</th>\n",
       "    </tr>\n",
       "    <tr>\n",
       "      <th>product_category_name</th>\n",
       "      <th></th>\n",
       "      <th></th>\n",
       "    </tr>\n",
       "  </thead>\n",
       "  <tbody>\n",
       "    <tr>\n",
       "      <th>Agro_Industry_And_Commerce</th>\n",
       "      <td>252</td>\n",
       "      <td>83841.95</td>\n",
       "    </tr>\n",
       "    <tr>\n",
       "      <th>Air_Conditioning</th>\n",
       "      <td>302</td>\n",
       "      <td>55962.38</td>\n",
       "    </tr>\n",
       "    <tr>\n",
       "      <th>Art</th>\n",
       "      <td>219</td>\n",
       "      <td>24721.97</td>\n",
       "    </tr>\n",
       "    <tr>\n",
       "      <th>Arts_And_Craftmanship</th>\n",
       "      <td>24</td>\n",
       "      <td>1814.01</td>\n",
       "    </tr>\n",
       "    <tr>\n",
       "      <th>Audio</th>\n",
       "      <td>381</td>\n",
       "      <td>52500.27</td>\n",
       "    </tr>\n",
       "    <tr>\n",
       "      <th>...</th>\n",
       "      <td>...</td>\n",
       "      <td>...</td>\n",
       "    </tr>\n",
       "    <tr>\n",
       "      <th>Stationery</th>\n",
       "      <td>2625</td>\n",
       "      <td>239385.97</td>\n",
       "    </tr>\n",
       "    <tr>\n",
       "      <th>Tablets_Printing_Image</th>\n",
       "      <td>87</td>\n",
       "      <td>7840.31</td>\n",
       "    </tr>\n",
       "    <tr>\n",
       "      <th>Telephony</th>\n",
       "      <td>4726</td>\n",
       "      <td>339571.03</td>\n",
       "    </tr>\n",
       "    <tr>\n",
       "      <th>Toys</th>\n",
       "      <td>4281</td>\n",
       "      <td>501118.39</td>\n",
       "    </tr>\n",
       "    <tr>\n",
       "      <th>Watches_Gifts</th>\n",
       "      <td>6213</td>\n",
       "      <td>1254322.95</td>\n",
       "    </tr>\n",
       "  </tbody>\n",
       "</table>\n",
       "<p>71 rows × 2 columns</p>\n",
       "</div>"
      ],
      "text/plain": [
       "                            product_id       price\n",
       "product_category_name                             \n",
       "Agro_Industry_And_Commerce         252    83841.95\n",
       "Air_Conditioning                   302    55962.38\n",
       "Art                                219    24721.97\n",
       "Arts_And_Craftmanship               24     1814.01\n",
       "Audio                              381    52500.27\n",
       "...                                ...         ...\n",
       "Stationery                        2625   239385.97\n",
       "Tablets_Printing_Image              87     7840.31\n",
       "Telephony                         4726   339571.03\n",
       "Toys                              4281   501118.39\n",
       "Watches_Gifts                     6213  1254322.95\n",
       "\n",
       "[71 rows x 2 columns]"
      ]
     },
     "execution_count": 123,
     "metadata": {},
     "output_type": "execute_result"
    }
   ],
   "source": [
    "df_final.groupby('product_category_name').aggregate({'product_id':'count','price':'sum'})"
   ]
  },
  {
   "cell_type": "code",
   "execution_count": 136,
   "id": "c0212b37",
   "metadata": {},
   "outputs": [
    {
     "data": {
      "text/html": [
       "<div>\n",
       "<style scoped>\n",
       "    .dataframe tbody tr th:only-of-type {\n",
       "        vertical-align: middle;\n",
       "    }\n",
       "\n",
       "    .dataframe tbody tr th {\n",
       "        vertical-align: top;\n",
       "    }\n",
       "\n",
       "    .dataframe thead th {\n",
       "        text-align: right;\n",
       "    }\n",
       "</style>\n",
       "<table border=\"1\" class=\"dataframe\">\n",
       "  <thead>\n",
       "    <tr style=\"text-align: right;\">\n",
       "      <th></th>\n",
       "      <th></th>\n",
       "      <th>product_id</th>\n",
       "    </tr>\n",
       "    <tr>\n",
       "      <th>year_month</th>\n",
       "      <th>product_category_name</th>\n",
       "      <th></th>\n",
       "    </tr>\n",
       "  </thead>\n",
       "  <tbody>\n",
       "    <tr>\n",
       "      <th rowspan=\"3\" valign=\"top\">2016/09</th>\n",
       "      <th>Furniture_Decor</th>\n",
       "      <td>2</td>\n",
       "    </tr>\n",
       "    <tr>\n",
       "      <th>Health_Beauty</th>\n",
       "      <td>3</td>\n",
       "    </tr>\n",
       "    <tr>\n",
       "      <th>Telephony</th>\n",
       "      <td>1</td>\n",
       "    </tr>\n",
       "    <tr>\n",
       "      <th rowspan=\"2\" valign=\"top\">2016/10</th>\n",
       "      <th>Air_Conditioning</th>\n",
       "      <td>10</td>\n",
       "    </tr>\n",
       "    <tr>\n",
       "      <th>Audio</th>\n",
       "      <td>2</td>\n",
       "    </tr>\n",
       "    <tr>\n",
       "      <th>...</th>\n",
       "      <th>...</th>\n",
       "      <td>...</td>\n",
       "    </tr>\n",
       "    <tr>\n",
       "      <th rowspan=\"4\" valign=\"top\">2018/08</th>\n",
       "      <th>Stationery</th>\n",
       "      <td>172</td>\n",
       "    </tr>\n",
       "    <tr>\n",
       "      <th>Telephony</th>\n",
       "      <td>289</td>\n",
       "    </tr>\n",
       "    <tr>\n",
       "      <th>Toys</th>\n",
       "      <td>170</td>\n",
       "    </tr>\n",
       "    <tr>\n",
       "      <th>Watches_Gifts</th>\n",
       "      <td>428</td>\n",
       "    </tr>\n",
       "    <tr>\n",
       "      <th>2018/09</th>\n",
       "      <th>Kitchen_Dining_Laundry_Garden_Furniture</th>\n",
       "      <td>1</td>\n",
       "    </tr>\n",
       "  </tbody>\n",
       "</table>\n",
       "<p>1253 rows × 1 columns</p>\n",
       "</div>"
      ],
      "text/plain": [
       "                                                    product_id\n",
       "year_month product_category_name                              \n",
       "2016/09    Furniture_Decor                                   2\n",
       "           Health_Beauty                                     3\n",
       "           Telephony                                         1\n",
       "2016/10    Air_Conditioning                                 10\n",
       "           Audio                                             2\n",
       "...                                                        ...\n",
       "2018/08    Stationery                                      172\n",
       "           Telephony                                       289\n",
       "           Toys                                            170\n",
       "           Watches_Gifts                                   428\n",
       "2018/09    Kitchen_Dining_Laundry_Garden_Furniture           1\n",
       "\n",
       "[1253 rows x 1 columns]"
      ]
     },
     "execution_count": 136,
     "metadata": {},
     "output_type": "execute_result"
    }
   ],
   "source": [
    "#f\n",
    "\n",
    "df_final.groupby(['year_month','product_category_name']).aggregate({'product_id':'count'})"
   ]
  },
  {
   "cell_type": "code",
   "execution_count": 137,
   "id": "584d90fd",
   "metadata": {},
   "outputs": [
    {
     "data": {
      "text/html": [
       "<div>\n",
       "<style scoped>\n",
       "    .dataframe tbody tr th:only-of-type {\n",
       "        vertical-align: middle;\n",
       "    }\n",
       "\n",
       "    .dataframe tbody tr th {\n",
       "        vertical-align: top;\n",
       "    }\n",
       "\n",
       "    .dataframe thead th {\n",
       "        text-align: right;\n",
       "    }\n",
       "</style>\n",
       "<table border=\"1\" class=\"dataframe\">\n",
       "  <thead>\n",
       "    <tr style=\"text-align: right;\">\n",
       "      <th></th>\n",
       "      <th></th>\n",
       "      <th>product_id</th>\n",
       "    </tr>\n",
       "    <tr>\n",
       "      <th>seller_id</th>\n",
       "      <th>product_category_name</th>\n",
       "      <th></th>\n",
       "    </tr>\n",
       "  </thead>\n",
       "  <tbody>\n",
       "    <tr>\n",
       "      <th>0015a82c2db000af6aaaf3ae2ecb0532</th>\n",
       "      <th>Small_Appliances</th>\n",
       "      <td>3</td>\n",
       "    </tr>\n",
       "    <tr>\n",
       "      <th rowspan=\"2\" valign=\"top\">001cca7ae9ae17fb1caed9dfb1094831</th>\n",
       "      <th>Construction_Tools_Construction</th>\n",
       "      <td>27</td>\n",
       "    </tr>\n",
       "    <tr>\n",
       "      <th>Garden_Tools</th>\n",
       "      <td>214</td>\n",
       "    </tr>\n",
       "    <tr>\n",
       "      <th>001e6ad469a905060d959994f1b41e4f</th>\n",
       "      <th>Sports_Leisure</th>\n",
       "      <td>1</td>\n",
       "    </tr>\n",
       "    <tr>\n",
       "      <th>002100f778ceb8431b7a1020ff7ab48f</th>\n",
       "      <th>Furniture_Decor</th>\n",
       "      <td>59</td>\n",
       "    </tr>\n",
       "    <tr>\n",
       "      <th>...</th>\n",
       "      <th>...</th>\n",
       "      <td>...</td>\n",
       "    </tr>\n",
       "    <tr>\n",
       "      <th rowspan=\"5\" valign=\"top\">ffff564a4f9085cd26170f4732393726</th>\n",
       "      <th>Construction_Tools_Construction</th>\n",
       "      <td>1</td>\n",
       "    </tr>\n",
       "    <tr>\n",
       "      <th>Electronics</th>\n",
       "      <td>2</td>\n",
       "    </tr>\n",
       "    <tr>\n",
       "      <th>Food</th>\n",
       "      <td>2</td>\n",
       "    </tr>\n",
       "    <tr>\n",
       "      <th>Housewares</th>\n",
       "      <td>2</td>\n",
       "    </tr>\n",
       "    <tr>\n",
       "      <th>Market_Place</th>\n",
       "      <td>1</td>\n",
       "    </tr>\n",
       "  </tbody>\n",
       "</table>\n",
       "<p>6352 rows × 1 columns</p>\n",
       "</div>"
      ],
      "text/plain": [
       "                                                                  product_id\n",
       "seller_id                        product_category_name                      \n",
       "0015a82c2db000af6aaaf3ae2ecb0532 Small_Appliances                          3\n",
       "001cca7ae9ae17fb1caed9dfb1094831 Construction_Tools_Construction          27\n",
       "                                 Garden_Tools                            214\n",
       "001e6ad469a905060d959994f1b41e4f Sports_Leisure                            1\n",
       "002100f778ceb8431b7a1020ff7ab48f Furniture_Decor                          59\n",
       "...                                                                      ...\n",
       "ffff564a4f9085cd26170f4732393726 Construction_Tools_Construction           1\n",
       "                                 Electronics                               2\n",
       "                                 Food                                      2\n",
       "                                 Housewares                                2\n",
       "                                 Market_Place                              1\n",
       "\n",
       "[6352 rows x 1 columns]"
      ]
     },
     "execution_count": 137,
     "metadata": {},
     "output_type": "execute_result"
    }
   ],
   "source": [
    "df_final.groupby(['seller_id','product_category_name']).agg({'product_id':'count'})"
   ]
  },
  {
   "cell_type": "code",
   "execution_count": 148,
   "id": "bca1ea9b",
   "metadata": {},
   "outputs": [
    {
     "data": {
      "text/html": [
       "<div>\n",
       "<style scoped>\n",
       "    .dataframe tbody tr th:only-of-type {\n",
       "        vertical-align: middle;\n",
       "    }\n",
       "\n",
       "    .dataframe tbody tr th {\n",
       "        vertical-align: top;\n",
       "    }\n",
       "\n",
       "    .dataframe thead th {\n",
       "        text-align: right;\n",
       "    }\n",
       "</style>\n",
       "<table border=\"1\" class=\"dataframe\">\n",
       "  <thead>\n",
       "    <tr style=\"text-align: right;\">\n",
       "      <th></th>\n",
       "      <th>price</th>\n",
       "    </tr>\n",
       "    <tr>\n",
       "      <th>product_id</th>\n",
       "      <th></th>\n",
       "    </tr>\n",
       "  </thead>\n",
       "  <tbody>\n",
       "    <tr>\n",
       "      <th>bb50f2e236e5eea0100680137654686c</th>\n",
       "      <td>68810.00</td>\n",
       "    </tr>\n",
       "    <tr>\n",
       "      <th>d6160fb7873f184099d9bc95e30376af</th>\n",
       "      <td>56948.83</td>\n",
       "    </tr>\n",
       "    <tr>\n",
       "      <th>6cdd53843498f92890544667809f1595</th>\n",
       "      <td>55779.90</td>\n",
       "    </tr>\n",
       "    <tr>\n",
       "      <th>d1c427060a0f73f6b889a5c7c61f2ac4</th>\n",
       "      <td>49141.40</td>\n",
       "    </tr>\n",
       "    <tr>\n",
       "      <th>99a4788cb24856965c36a24e339b6058</th>\n",
       "      <td>46575.66</td>\n",
       "    </tr>\n",
       "    <tr>\n",
       "      <th>25c38557cf793876c5abdd5931f922db</th>\n",
       "      <td>44829.32</td>\n",
       "    </tr>\n",
       "    <tr>\n",
       "      <th>3dd2a17168ec895c781a9191c1e95ad7</th>\n",
       "      <td>41682.20</td>\n",
       "    </tr>\n",
       "    <tr>\n",
       "      <th>aca2eb7d00ea1a7b8ebd4e68314663af</th>\n",
       "      <td>38248.20</td>\n",
       "    </tr>\n",
       "    <tr>\n",
       "      <th>53b36df67ebb7c41585e8d54d6772e08</th>\n",
       "      <td>38158.21</td>\n",
       "    </tr>\n",
       "    <tr>\n",
       "      <th>5f504b3a1c75b73d6151be81eb05bdc9</th>\n",
       "      <td>37733.90</td>\n",
       "    </tr>\n",
       "  </tbody>\n",
       "</table>\n",
       "</div>"
      ],
      "text/plain": [
       "                                     price\n",
       "product_id                                \n",
       "bb50f2e236e5eea0100680137654686c  68810.00\n",
       "d6160fb7873f184099d9bc95e30376af  56948.83\n",
       "6cdd53843498f92890544667809f1595  55779.90\n",
       "d1c427060a0f73f6b889a5c7c61f2ac4  49141.40\n",
       "99a4788cb24856965c36a24e339b6058  46575.66\n",
       "25c38557cf793876c5abdd5931f922db  44829.32\n",
       "3dd2a17168ec895c781a9191c1e95ad7  41682.20\n",
       "aca2eb7d00ea1a7b8ebd4e68314663af  38248.20\n",
       "53b36df67ebb7c41585e8d54d6772e08  38158.21\n",
       "5f504b3a1c75b73d6151be81eb05bdc9  37733.90"
      ]
     },
     "execution_count": 148,
     "metadata": {},
     "output_type": "execute_result"
    }
   ],
   "source": [
    "#h.\n",
    "\n",
    "pd.DataFrame(df_final.groupby('product_id').agg({'price':'sum'})).sort_values('price',ascending=False).head(10)"
   ]
  },
  {
   "cell_type": "markdown",
   "id": "584f740e",
   "metadata": {},
   "source": [
    "### 2.\tPerforming Customers/sellers Segmentation\n",
    "\n",
    "##### a.\tDivide the customers into groups based on the revenue generated\n",
    "\n",
    "##### b.\tDivide the sellers into groups based on the revenue generated"
   ]
  },
  {
   "cell_type": "code",
   "execution_count": 173,
   "id": "6349a532",
   "metadata": {},
   "outputs": [],
   "source": [
    "#a.\n",
    "\n",
    "df_final['Revenue'] = df_final.price + df_final.freight_value\n",
    "df11 = pd.DataFrame(df_final.groupby('customer_id').Revenue.sum())\n",
    "LC = df_final.groupby('customer_id').Revenue.sum().max()* 0.25"
   ]
  },
  {
   "cell_type": "code",
   "execution_count": 174,
   "id": "2e0acec1",
   "metadata": {},
   "outputs": [
    {
     "data": {
      "text/plain": [
       "customer_id\n",
       "00012a2ce6f8dcda20d059ce98491703    Low\n",
       "000161a058600d5901f007fab4c27140    Low\n",
       "0001fd6190edaaf884bcaf3d49edf079    Low\n",
       "0002414f95344307404f0ace7a26f1d5    Low\n",
       "000379cdec625522490c315e70c7a9fb    Low\n",
       "                                   ... \n",
       "fffecc9f79fd8c764f843e9951b11341    Low\n",
       "fffeda5b6d849fbd39689bb92087f431    Low\n",
       "ffff42319e9b2d713724ae527742af25    Low\n",
       "ffffa3172527f765de70084a7e53aae8    Low\n",
       "ffffe8b65bbe3087b653a978c870db99    NaN\n",
       "Name: Revenue, Length: 99441, dtype: category\n",
       "Categories (4, object): ['Low' < 'Avg' < 'Good' < 'High']"
      ]
     },
     "execution_count": 174,
     "metadata": {},
     "output_type": "execute_result"
    }
   ],
   "source": [
    "df12 = pd.cut(df11.Revenue,bins=np.arange(0,15000,LC),\n",
    "              labels=['Low','Avg','Good','High'])\n",
    "df12"
   ]
  },
  {
   "cell_type": "code",
   "execution_count": 175,
   "id": "1d39db48",
   "metadata": {},
   "outputs": [],
   "source": [
    "#b.\n",
    "\n",
    "df13 = pd.DataFrame(df_final.groupby('seller_id').Revenue.sum())\n",
    "LC = df_final.groupby('customer_id').Revenue.sum().max()* 0.25"
   ]
  },
  {
   "cell_type": "code",
   "execution_count": 176,
   "id": "f38b1ede",
   "metadata": {},
   "outputs": [
    {
     "data": {
      "text/plain": [
       "seller_id\n",
       "0015a82c2db000af6aaaf3ae2ecb0532     Low\n",
       "001cca7ae9ae17fb1caed9dfb1094831     NaN\n",
       "001e6ad469a905060d959994f1b41e4f     Low\n",
       "002100f778ceb8431b7a1020ff7ab48f     Low\n",
       "003554e2dce176b5555353e4f3555ac8     Low\n",
       "                                    ... \n",
       "ffcfefa19b08742c5d315f2791395ee5     Low\n",
       "ffdd9f82b9a447f6f8d4b91554cc7dd3     Low\n",
       "ffeee66ac5d5a62fe688b9d26f83f534     Low\n",
       "fffd5413c0700ac820c7069d66d98c89    High\n",
       "ffff564a4f9085cd26170f4732393726     Low\n",
       "Name: Revenue, Length: 3095, dtype: category\n",
       "Categories (4, object): ['Low' < 'Avg' < 'Good' < 'High']"
      ]
     },
     "execution_count": 176,
     "metadata": {},
     "output_type": "execute_result"
    }
   ],
   "source": [
    "df14 = pd.cut(df13.Revenue,bins=np.arange(0,15000,LC),\n",
    "              labels=['Low','Avg','Good','High'])\n",
    "df14"
   ]
  },
  {
   "cell_type": "markdown",
   "id": "ccdcf52e",
   "metadata": {},
   "source": [
    "### 3.\tCross-Selling (Which products are selling together)\n",
    "\n",
    "##### Hint: We need to find which of the top 10 combinations of products are selling together in each transaction. (combination of 2 or 3 buying together)\n"
   ]
  },
  {
   "cell_type": "code",
   "execution_count": 189,
   "id": "997dd9f1",
   "metadata": {},
   "outputs": [],
   "source": [
    "df15 = df_final.loc[:,['customer_id','order_purchase_timestamp','product_id']].drop_duplicates().sort_values(['customer_id','order_purchase_timestamp'])"
   ]
  },
  {
   "cell_type": "markdown",
   "id": "015801ed",
   "metadata": {},
   "source": [
    "### 4.\tPayment Behaviour\n",
    "\n",
    "##### a. How customers are paying?\n",
    "\n",
    "##### b. Which payment channels are used by most customers?"
   ]
  },
  {
   "cell_type": "code",
   "execution_count": 221,
   "id": "2cddfab2",
   "metadata": {},
   "outputs": [
    {
     "data": {
      "text/plain": [
       "array(['credit_card', 'voucher', 'UPI', 'debit_card', 'not_defined', nan],\n",
       "      dtype=object)"
      ]
     },
     "execution_count": 221,
     "metadata": {},
     "output_type": "execute_result"
    }
   ],
   "source": [
    "#a.\n",
    "\n",
    "df_final.payment_type.unique()"
   ]
  },
  {
   "cell_type": "code",
   "execution_count": 223,
   "id": "1b22a5f0",
   "metadata": {},
   "outputs": [
    {
     "data": {
      "text/plain": [
       "payment_type\n",
       "credit_card    12777900.97\n",
       "UPI             2859446.84\n",
       "voucher          791647.56\n",
       "debit_card       216038.08\n",
       "not_defined           0.00\n",
       "Name: Revenue, dtype: float64"
      ]
     },
     "execution_count": 223,
     "metadata": {},
     "output_type": "execute_result"
    }
   ],
   "source": [
    "#b.\n",
    "\n",
    "df_final.groupby('payment_type').Revenue.sum().sort_values(ascending = False)"
   ]
  },
  {
   "cell_type": "markdown",
   "id": "ad44ebd0",
   "metadata": {},
   "source": [
    "### 5.\tCustomer satisfaction towards category & product\n",
    "\n",
    "##### a.Which categories (top 10) are maximum rated & minimum rated ?\n",
    "##### b.Which products (top10) are maximum rated & minimum rated ?\n",
    "##### c.Average rating by location, seller, product, category, month etc.\n"
   ]
  },
  {
   "cell_type": "code",
   "execution_count": 240,
   "id": "fb303a87",
   "metadata": {},
   "outputs": [
    {
     "data": {
      "text/html": [
       "<div>\n",
       "<style scoped>\n",
       "    .dataframe tbody tr th:only-of-type {\n",
       "        vertical-align: middle;\n",
       "    }\n",
       "\n",
       "    .dataframe tbody tr th {\n",
       "        vertical-align: top;\n",
       "    }\n",
       "\n",
       "    .dataframe thead th {\n",
       "        text-align: right;\n",
       "    }\n",
       "</style>\n",
       "<table border=\"1\" class=\"dataframe\">\n",
       "  <thead>\n",
       "    <tr style=\"text-align: right;\">\n",
       "      <th></th>\n",
       "      <th>review_score</th>\n",
       "    </tr>\n",
       "    <tr>\n",
       "      <th>product_category_name</th>\n",
       "      <th></th>\n",
       "    </tr>\n",
       "  </thead>\n",
       "  <tbody>\n",
       "    <tr>\n",
       "      <th>Bed_Bath_Table</th>\n",
       "      <td>46366</td>\n",
       "    </tr>\n",
       "    <tr>\n",
       "      <th>Health_Beauty</th>\n",
       "      <td>41318</td>\n",
       "    </tr>\n",
       "    <tr>\n",
       "      <th>Sports_Leisure</th>\n",
       "      <td>36856</td>\n",
       "    </tr>\n",
       "    <tr>\n",
       "      <th>Furniture_Decor</th>\n",
       "      <td>34407</td>\n",
       "    </tr>\n",
       "    <tr>\n",
       "      <th>Computers_Accessories</th>\n",
       "      <td>32002</td>\n",
       "    </tr>\n",
       "    <tr>\n",
       "      <th>Housewares</th>\n",
       "      <td>29854</td>\n",
       "    </tr>\n",
       "    <tr>\n",
       "      <th>Watches_Gifts</th>\n",
       "      <td>24856</td>\n",
       "    </tr>\n",
       "    <tr>\n",
       "      <th>Telephony</th>\n",
       "      <td>18612</td>\n",
       "    </tr>\n",
       "    <tr>\n",
       "      <th>Garden_Tools</th>\n",
       "      <td>18412</td>\n",
       "    </tr>\n",
       "    <tr>\n",
       "      <th>Auto</th>\n",
       "      <td>17770</td>\n",
       "    </tr>\n",
       "  </tbody>\n",
       "</table>\n",
       "</div>"
      ],
      "text/plain": [
       "                       review_score\n",
       "product_category_name              \n",
       "Bed_Bath_Table                46366\n",
       "Health_Beauty                 41318\n",
       "Sports_Leisure                36856\n",
       "Furniture_Decor               34407\n",
       "Computers_Accessories         32002\n",
       "Housewares                    29854\n",
       "Watches_Gifts                 24856\n",
       "Telephony                     18612\n",
       "Garden_Tools                  18412\n",
       "Auto                          17770"
      ]
     },
     "execution_count": 240,
     "metadata": {},
     "output_type": "execute_result"
    }
   ],
   "source": [
    "#a\n",
    "\n",
    "df17 = pd.DataFrame(df_final.groupby('product_category_name').review_score.sum()).sort_values('review_score',ascending=False)\n",
    "df17.head(10)"
   ]
  },
  {
   "cell_type": "code",
   "execution_count": 239,
   "id": "da0f10d4",
   "metadata": {},
   "outputs": [
    {
     "data": {
      "text/html": [
       "<div>\n",
       "<style scoped>\n",
       "    .dataframe tbody tr th:only-of-type {\n",
       "        vertical-align: middle;\n",
       "    }\n",
       "\n",
       "    .dataframe tbody tr th {\n",
       "        vertical-align: top;\n",
       "    }\n",
       "\n",
       "    .dataframe thead th {\n",
       "        text-align: right;\n",
       "    }\n",
       "</style>\n",
       "<table border=\"1\" class=\"dataframe\">\n",
       "  <thead>\n",
       "    <tr style=\"text-align: right;\">\n",
       "      <th></th>\n",
       "      <th>review_score</th>\n",
       "    </tr>\n",
       "    <tr>\n",
       "      <th>product_category_name</th>\n",
       "      <th></th>\n",
       "    </tr>\n",
       "  </thead>\n",
       "  <tbody>\n",
       "    <tr>\n",
       "      <th>Furniture_Mattress_And_Upholstery</th>\n",
       "      <td>156</td>\n",
       "    </tr>\n",
       "    <tr>\n",
       "      <th>Flowers</th>\n",
       "      <td>139</td>\n",
       "    </tr>\n",
       "    <tr>\n",
       "      <th>Fashion_Sport</th>\n",
       "      <td>132</td>\n",
       "    </tr>\n",
       "    <tr>\n",
       "      <th>Diapers_And_Hygiene</th>\n",
       "      <td>127</td>\n",
       "    </tr>\n",
       "    <tr>\n",
       "      <th>Home_Comfort_2</th>\n",
       "      <td>105</td>\n",
       "    </tr>\n",
       "    <tr>\n",
       "      <th>Arts_And_Craftmanship</th>\n",
       "      <td>99</td>\n",
       "    </tr>\n",
       "    <tr>\n",
       "      <th>Cds_Dvds_Musicals</th>\n",
       "      <td>65</td>\n",
       "    </tr>\n",
       "    <tr>\n",
       "      <th>La_Cuisine</th>\n",
       "      <td>63</td>\n",
       "    </tr>\n",
       "    <tr>\n",
       "      <th>Fashion_Childrens_Clothes</th>\n",
       "      <td>36</td>\n",
       "    </tr>\n",
       "    <tr>\n",
       "      <th>Security_And_Services</th>\n",
       "      <td>5</td>\n",
       "    </tr>\n",
       "  </tbody>\n",
       "</table>\n",
       "</div>"
      ],
      "text/plain": [
       "                                   review_score\n",
       "product_category_name                          \n",
       "Furniture_Mattress_And_Upholstery           156\n",
       "Flowers                                     139\n",
       "Fashion_Sport                               132\n",
       "Diapers_And_Hygiene                         127\n",
       "Home_Comfort_2                              105\n",
       "Arts_And_Craftmanship                        99\n",
       "Cds_Dvds_Musicals                            65\n",
       "La_Cuisine                                   63\n",
       "Fashion_Childrens_Clothes                    36\n",
       "Security_And_Services                         5"
      ]
     },
     "execution_count": 239,
     "metadata": {},
     "output_type": "execute_result"
    }
   ],
   "source": [
    "df17.tail(10)"
   ]
  },
  {
   "cell_type": "code",
   "execution_count": 241,
   "id": "25f424a9",
   "metadata": {},
   "outputs": [
    {
     "data": {
      "text/html": [
       "<div>\n",
       "<style scoped>\n",
       "    .dataframe tbody tr th:only-of-type {\n",
       "        vertical-align: middle;\n",
       "    }\n",
       "\n",
       "    .dataframe tbody tr th {\n",
       "        vertical-align: top;\n",
       "    }\n",
       "\n",
       "    .dataframe thead th {\n",
       "        text-align: right;\n",
       "    }\n",
       "</style>\n",
       "<table border=\"1\" class=\"dataframe\">\n",
       "  <thead>\n",
       "    <tr style=\"text-align: right;\">\n",
       "      <th></th>\n",
       "      <th>review_score</th>\n",
       "    </tr>\n",
       "    <tr>\n",
       "      <th>product_id</th>\n",
       "      <th></th>\n",
       "    </tr>\n",
       "  </thead>\n",
       "  <tbody>\n",
       "    <tr>\n",
       "      <th>aca2eb7d00ea1a7b8ebd4e68314663af</th>\n",
       "      <td>2149</td>\n",
       "    </tr>\n",
       "    <tr>\n",
       "      <th>99a4788cb24856965c36a24e339b6058</th>\n",
       "      <td>2047</td>\n",
       "    </tr>\n",
       "    <tr>\n",
       "      <th>422879e10f46682990de24d770e7f83d</th>\n",
       "      <td>1993</td>\n",
       "    </tr>\n",
       "    <tr>\n",
       "      <th>389d119b48cf3043d311335e499d9c6b</th>\n",
       "      <td>1665</td>\n",
       "    </tr>\n",
       "    <tr>\n",
       "      <th>368c6c730842d78016ad823897a372db</th>\n",
       "      <td>1553</td>\n",
       "    </tr>\n",
       "    <tr>\n",
       "      <th>53759a2ecddad2bb87a079a1f1519f73</th>\n",
       "      <td>1516</td>\n",
       "    </tr>\n",
       "    <tr>\n",
       "      <th>d1c427060a0f73f6b889a5c7c61f2ac4</th>\n",
       "      <td>1456</td>\n",
       "    </tr>\n",
       "    <tr>\n",
       "      <th>53b36df67ebb7c41585e8d54d6772e08</th>\n",
       "      <td>1368</td>\n",
       "    </tr>\n",
       "    <tr>\n",
       "      <th>154e7e31ebfa092203795c972e5804a6</th>\n",
       "      <td>1274</td>\n",
       "    </tr>\n",
       "    <tr>\n",
       "      <th>3dd2a17168ec895c781a9191c1e95ad7</th>\n",
       "      <td>1163</td>\n",
       "    </tr>\n",
       "  </tbody>\n",
       "</table>\n",
       "</div>"
      ],
      "text/plain": [
       "                                  review_score\n",
       "product_id                                    \n",
       "aca2eb7d00ea1a7b8ebd4e68314663af          2149\n",
       "99a4788cb24856965c36a24e339b6058          2047\n",
       "422879e10f46682990de24d770e7f83d          1993\n",
       "389d119b48cf3043d311335e499d9c6b          1665\n",
       "368c6c730842d78016ad823897a372db          1553\n",
       "53759a2ecddad2bb87a079a1f1519f73          1516\n",
       "d1c427060a0f73f6b889a5c7c61f2ac4          1456\n",
       "53b36df67ebb7c41585e8d54d6772e08          1368\n",
       "154e7e31ebfa092203795c972e5804a6          1274\n",
       "3dd2a17168ec895c781a9191c1e95ad7          1163"
      ]
     },
     "execution_count": 241,
     "metadata": {},
     "output_type": "execute_result"
    }
   ],
   "source": [
    "#b\n",
    "\n",
    "df18 = pd.DataFrame(df_final.groupby('product_id').review_score.sum()).sort_values('review_score',ascending=False)\n",
    "df18.head(10)"
   ]
  },
  {
   "cell_type": "code",
   "execution_count": 242,
   "id": "79b42fbf",
   "metadata": {},
   "outputs": [
    {
     "data": {
      "text/html": [
       "<div>\n",
       "<style scoped>\n",
       "    .dataframe tbody tr th:only-of-type {\n",
       "        vertical-align: middle;\n",
       "    }\n",
       "\n",
       "    .dataframe tbody tr th {\n",
       "        vertical-align: top;\n",
       "    }\n",
       "\n",
       "    .dataframe thead th {\n",
       "        text-align: right;\n",
       "    }\n",
       "</style>\n",
       "<table border=\"1\" class=\"dataframe\">\n",
       "  <thead>\n",
       "    <tr style=\"text-align: right;\">\n",
       "      <th></th>\n",
       "      <th>review_score</th>\n",
       "    </tr>\n",
       "    <tr>\n",
       "      <th>product_id</th>\n",
       "      <th></th>\n",
       "    </tr>\n",
       "  </thead>\n",
       "  <tbody>\n",
       "    <tr>\n",
       "      <th>e15f2eb4bd9c94996e56cc76c1394361</th>\n",
       "      <td>1</td>\n",
       "    </tr>\n",
       "    <tr>\n",
       "      <th>71bdf1a4d18c3cd68f108547f0b4cd1c</th>\n",
       "      <td>1</td>\n",
       "    </tr>\n",
       "    <tr>\n",
       "      <th>c7dd52c6177b277973286c741e7894cb</th>\n",
       "      <td>1</td>\n",
       "    </tr>\n",
       "    <tr>\n",
       "      <th>a0de6ed943a47ab1ea06555cb9fddbab</th>\n",
       "      <td>1</td>\n",
       "    </tr>\n",
       "    <tr>\n",
       "      <th>e15014500e7941bc3fae1757c3cd48ad</th>\n",
       "      <td>1</td>\n",
       "    </tr>\n",
       "    <tr>\n",
       "      <th>a0e45a99e446ebadec0421e41666235b</th>\n",
       "      <td>1</td>\n",
       "    </tr>\n",
       "    <tr>\n",
       "      <th>4c165ddec9f86318b210a89f1e3b6761</th>\n",
       "      <td>1</td>\n",
       "    </tr>\n",
       "    <tr>\n",
       "      <th>6b5d792112275a0262356e64e098025f</th>\n",
       "      <td>1</td>\n",
       "    </tr>\n",
       "    <tr>\n",
       "      <th>f25de2089ffdbd1c151d1e971b67a928</th>\n",
       "      <td>1</td>\n",
       "    </tr>\n",
       "    <tr>\n",
       "      <th>7c1ed5098b2fe8445fa6a4853da78c21</th>\n",
       "      <td>1</td>\n",
       "    </tr>\n",
       "  </tbody>\n",
       "</table>\n",
       "</div>"
      ],
      "text/plain": [
       "                                  review_score\n",
       "product_id                                    \n",
       "e15f2eb4bd9c94996e56cc76c1394361             1\n",
       "71bdf1a4d18c3cd68f108547f0b4cd1c             1\n",
       "c7dd52c6177b277973286c741e7894cb             1\n",
       "a0de6ed943a47ab1ea06555cb9fddbab             1\n",
       "e15014500e7941bc3fae1757c3cd48ad             1\n",
       "a0e45a99e446ebadec0421e41666235b             1\n",
       "4c165ddec9f86318b210a89f1e3b6761             1\n",
       "6b5d792112275a0262356e64e098025f             1\n",
       "f25de2089ffdbd1c151d1e971b67a928             1\n",
       "7c1ed5098b2fe8445fa6a4853da78c21             1"
      ]
     },
     "execution_count": 242,
     "metadata": {},
     "output_type": "execute_result"
    }
   ],
   "source": [
    "df18.tail(10)"
   ]
  },
  {
   "cell_type": "code",
   "execution_count": 245,
   "id": "2c75d9b4",
   "metadata": {},
   "outputs": [
    {
     "data": {
      "text/plain": [
       "customer_state\n",
       "Andhra Pradesh       3.98\n",
       "Arunachal Pradesh    4.01\n",
       "Chhattisgarh         4.02\n",
       "Delhi                4.02\n",
       "Goa                  4.80\n",
       "Gujarat              4.02\n",
       "Haryana              4.09\n",
       "Himachal Pradesh     3.97\n",
       "Jammu & Kashmir      3.99\n",
       "Karnataka            4.00\n",
       "Kerala               4.03\n",
       "Madhya Pradesh       3.97\n",
       "Maharashtra          4.07\n",
       "Orissa               4.08\n",
       "Punjab               4.15\n",
       "Rajasthan            4.09\n",
       "Tamil Nadu           4.10\n",
       "Uttar Pradesh        4.12\n",
       "Uttaranchal          3.72\n",
       "West Bengal          3.99\n",
       "Name: review_score, dtype: float64"
      ]
     },
     "execution_count": 245,
     "metadata": {},
     "output_type": "execute_result"
    }
   ],
   "source": [
    "#c\n",
    "\n",
    "df_final.groupby('customer_state').review_score.mean().round(2)"
   ]
  },
  {
   "cell_type": "code",
   "execution_count": 254,
   "id": "d8c4f0eb",
   "metadata": {},
   "outputs": [
    {
     "data": {
      "text/plain": [
       "<AxesSubplot:ylabel='review_score'>"
      ]
     },
     "execution_count": 254,
     "metadata": {},
     "output_type": "execute_result"
    },
    {
     "data": {
      "image/png": "[encoded data removed]",
      "text/plain": [
       "<Figure size 432x288 with 1 Axes>"
      ]
     },
     "metadata": {},
     "output_type": "display_data"
    }
   ],
   "source": [
    "df_final.groupby('customer_state').review_score.mean().round(2).plot(kind = 'pie')"
   ]
  },
  {
   "cell_type": "code",
   "execution_count": 248,
   "id": "b868f75e",
   "metadata": {},
   "outputs": [
    {
     "data": {
      "text/plain": [
       "seller_id\n",
       "0015a82c2db000af6aaaf3ae2ecb0532    3.67\n",
       "001cca7ae9ae17fb1caed9dfb1094831    3.88\n",
       "001e6ad469a905060d959994f1b41e4f    1.00\n",
       "002100f778ceb8431b7a1020ff7ab48f    4.03\n",
       "003554e2dce176b5555353e4f3555ac8    5.00\n",
       "                                    ... \n",
       "ffcfefa19b08742c5d315f2791395ee5    1.00\n",
       "ffdd9f82b9a447f6f8d4b91554cc7dd3    4.29\n",
       "ffeee66ac5d5a62fe688b9d26f83f534    4.21\n",
       "fffd5413c0700ac820c7069d66d98c89    3.84\n",
       "ffff564a4f9085cd26170f4732393726    2.10\n",
       "Name: review_score, Length: 3095, dtype: float64"
      ]
     },
     "execution_count": 248,
     "metadata": {},
     "output_type": "execute_result"
    }
   ],
   "source": [
    "df_final.groupby('seller_id').review_score.mean().round(2)"
   ]
  },
  {
   "cell_type": "code",
   "execution_count": 253,
   "id": "1ff39c12",
   "metadata": {},
   "outputs": [
    {
     "data": {
      "text/plain": [
       "product_category_name\n",
       "Agro_Industry_And_Commerce    4.15\n",
       "Air_Conditioning              3.92\n",
       "Art                           3.92\n",
       "Arts_And_Craftmanship         4.12\n",
       "Audio                         3.82\n",
       "                              ... \n",
       "Stationery                    4.18\n",
       "Tablets_Printing_Image        4.05\n",
       "Telephony                     3.94\n",
       "Toys                          4.14\n",
       "Watches_Gifts                 4.00\n",
       "Name: review_score, Length: 71, dtype: float64"
      ]
     },
     "execution_count": 253,
     "metadata": {},
     "output_type": "execute_result"
    }
   ],
   "source": [
    "df_final.groupby('product_category_name').review_score.mean().round(2)"
   ]
  },
  {
   "cell_type": "code",
   "execution_count": 250,
   "id": "3d01f2a6",
   "metadata": {},
   "outputs": [
    {
     "data": {
      "text/plain": [
       "<AxesSubplot:xlabel='year_month'>"
      ]
     },
     "execution_count": 250,
     "metadata": {},
     "output_type": "execute_result"
    },
    {
     "data": {
      "image/png": "[encoded data removed]",
      "text/plain": [
       "<Figure size 432x288 with 1 Axes>"
      ]
     },
     "metadata": {
      "needs_background": "light"
     },
     "output_type": "display_data"
    }
   ],
   "source": [
    "df_final.groupby('year_month').review_score.mean().round(2).plot(kind='bar')"
   ]
  }
 ],
 "metadata": {
  "kernelspec": {
   "display_name": "Python 3 (ipykernel)",
   "language": "python",
   "name": "python3"
  },
  "language_info": {
   "codemirror_mode": {
    "name": "ipython",
    "version": 3
   },
   "file_extension": ".py",
   "mimetype": "text/x-python",
   "name": "python",
   "nbconvert_exporter": "python",
   "pygments_lexer": "ipython3",
   "version": "3.9.7"
  }
 },
 "nbformat": 4,
 "nbformat_minor": 5
}
